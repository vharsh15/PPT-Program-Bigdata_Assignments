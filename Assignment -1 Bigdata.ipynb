{
 "cells": [
  {
   "cell_type": "markdown",
   "id": "84a0284b",
   "metadata": {},
   "source": [
    "1. Write a Python program to check if a given string is an anagram."
   ]
  },
  {
   "cell_type": "code",
   "execution_count": 2,
   "id": "84634732",
   "metadata": {},
   "outputs": [
    {
     "name": "stdout",
     "output_type": "stream",
     "text": [
      "Enter the first string: Harsh\n",
      "Enter the second string: harsh\n",
      "The strings are anagrams.\n"
     ]
    }
   ],
   "source": [
    "def is_anagram(str1, str2):\n",
    "    # Remove any whitespace and convert both strings to lowercase\n",
    "    str1 = str1.replace(\" \", \"\").lower()\n",
    "    str2 = str2.replace(\" \", \"\").lower()\n",
    "\n",
    "    # Check if the lengths of the strings are equal\n",
    "    if len(str1) != len(str2):\n",
    "        return False\n",
    "\n",
    "    # Sort both strings alphabetically\n",
    "    sorted_str1 = sorted(str1)\n",
    "    sorted_str2 = sorted(str2)\n",
    "\n",
    "    # Compare the sorted strings\n",
    "    if sorted_str1 == sorted_str2:\n",
    "        return True\n",
    "    else:\n",
    "        return False\n",
    "\n",
    "# Example usage\n",
    "string1 = input(\"Enter the first string: \")\n",
    "string2 = input(\"Enter the second string: \")\n",
    "\n",
    "if is_anagram(string1, string2):\n",
    "    print(\"The strings are anagrams.\")\n",
    "else:\n",
    "    print(\"The strings are not anagrams.\")\n"
   ]
  },
  {
   "cell_type": "markdown",
   "id": "9012d651",
   "metadata": {},
   "source": [
    "2. Write a Python program to find the maximum and minimum values in a\n",
    "dictionary."
   ]
  },
  {
   "cell_type": "code",
   "execution_count": 3,
   "id": "4581588d",
   "metadata": {},
   "outputs": [
    {
     "name": "stdout",
     "output_type": "stream",
     "text": [
      "Maximum value(s): 50\n",
      "Keys associated with maximum value(s): ['apple']\n",
      "Minimum value(s): 15\n",
      "Keys associated with minimum value(s): ['grapes']\n"
     ]
    }
   ],
   "source": [
    "def find_max_min_values(dictionary):\n",
    "    if len(dictionary) == 0:\n",
    "        print(\"The dictionary is empty.\")\n",
    "        return\n",
    "\n",
    "    max_value = max(dictionary.values())\n",
    "    min_value = min(dictionary.values())\n",
    "\n",
    "    max_keys = [key for key, value in dictionary.items() if value == max_value]\n",
    "    min_keys = [key for key, value in dictionary.items() if value == min_value]\n",
    "\n",
    "    print(\"Maximum value(s):\", max_value)\n",
    "    print(\"Keys associated with maximum value(s):\", max_keys)\n",
    "    print(\"Minimum value(s):\", min_value)\n",
    "    print(\"Keys associated with minimum value(s):\", min_keys)\n",
    "\n",
    "# Example usage\n",
    "my_dict = {\"apple\": 50, \"banana\": 20, \"orange\": 35, \"grapes\": 15}\n",
    "find_max_min_values(my_dict)\n"
   ]
  },
  {
   "cell_type": "markdown",
   "id": "92ecf64f",
   "metadata": {},
   "source": [
    "3. Write a Python program to find the average of a list of numbers."
   ]
  },
  {
   "cell_type": "code",
   "execution_count": 4,
   "id": "401e11ab",
   "metadata": {},
   "outputs": [
    {
     "name": "stdout",
     "output_type": "stream",
     "text": [
      "Average: 30.0\n"
     ]
    }
   ],
   "source": [
    "def find_average(numbers):\n",
    "    if len(numbers) == 0:\n",
    "        print(\"The list is empty.\")\n",
    "        return\n",
    "\n",
    "    total = sum(numbers)\n",
    "    average = total / len(numbers)\n",
    "    return average\n",
    "\n",
    "# Example usage\n",
    "my_list = [10, 20, 30, 40, 50]\n",
    "average_value = find_average(my_list)\n",
    "print(\"Average:\", average_value)\n"
   ]
  },
  {
   "cell_type": "markdown",
   "id": "b9054bae",
   "metadata": {},
   "source": [
    "4. Write a Python program to remove all vowels from a string.|"
   ]
  },
  {
   "cell_type": "code",
   "execution_count": 5,
   "id": "9c30a4e2",
   "metadata": {},
   "outputs": [
    {
     "name": "stdout",
     "output_type": "stream",
     "text": [
      "Original string: Hello, World!\n",
      "String without vowels: Hll, Wrld!\n"
     ]
    }
   ],
   "source": [
    "def remove_vowels(string):\n",
    "    vowels = \"aeiouAEIOU\"\n",
    "    result = \"\"\n",
    "\n",
    "    for char in string:\n",
    "        if char not in vowels:\n",
    "            result += char\n",
    "\n",
    "    return result\n",
    "\n",
    "# Example usage\n",
    "my_string = \"Hello, World!\"\n",
    "new_string = remove_vowels(my_string)\n",
    "print(\"Original string:\", my_string)\n",
    "print(\"String without vowels:\", new_string)\n"
   ]
  },
  {
   "cell_type": "markdown",
   "id": "2048284d",
   "metadata": {},
   "source": [
    "5. Write a Python function to calculate the factorial of a number using recursion."
   ]
  },
  {
   "cell_type": "code",
   "execution_count": 7,
   "id": "1a9647e8",
   "metadata": {},
   "outputs": [
    {
     "name": "stdout",
     "output_type": "stream",
     "text": [
      "Enter a number: 5\n",
      "Factorial of 5 is 120\n"
     ]
    }
   ],
   "source": [
    "def factorial_recursive(n):\n",
    "    if n == 0 or n == 1:\n",
    "        return 1\n",
    "    else:\n",
    "        return n * factorial_recursive(n - 1)\n",
    "\n",
    "# Example usage\n",
    "number = int(input(\"Enter a number: \"))\n",
    "factorial = factorial_recursive(number)\n",
    "print(\"Factorial of\", number, \"is\", factorial)\n"
   ]
  },
  {
   "cell_type": "markdown",
   "id": "01361408",
   "metadata": {},
   "source": [
    "6. Write a Python program to merge two unsorted lists into a single sorted list\n",
    "using the merge sort algorithm."
   ]
  },
  {
   "cell_type": "code",
   "execution_count": 8,
   "id": "2b2628b7",
   "metadata": {},
   "outputs": [
    {
     "name": "stdout",
     "output_type": "stream",
     "text": [
      "Merged and sorted list: [1, 2, 3, 4, 5, 6, 7, 8, 9, 10]\n"
     ]
    }
   ],
   "source": [
    "def merge_sort_merge(left, right):\n",
    "    merged = []\n",
    "    i, j = 0, 0\n",
    "\n",
    "    while i < len(left) and j < len(right):\n",
    "        if left[i] < right[j]:\n",
    "            merged.append(left[i])\n",
    "            i += 1\n",
    "        else:\n",
    "            merged.append(right[j])\n",
    "            j += 1\n",
    "\n",
    "    merged.extend(left[i:])\n",
    "    merged.extend(right[j:])\n",
    "    return merged\n",
    "\n",
    "def merge_sort(lst):\n",
    "    if len(lst) <= 1:\n",
    "        return lst\n",
    "\n",
    "    mid = len(lst) // 2\n",
    "    left = merge_sort(lst[:mid])\n",
    "    right = merge_sort(lst[mid:])\n",
    "\n",
    "    return merge_sort_merge(left, right)\n",
    "\n",
    "# Example usage\n",
    "list1 = [9, 5, 1, 3, 8]\n",
    "list2 = [7, 6, 2, 4, 10]\n",
    "merged_list = merge_sort(list1 + list2)\n",
    "print(\"Merged and sorted list:\", merged_list)\n"
   ]
  },
  {
   "cell_type": "markdown",
   "id": "0d8ab6d7",
   "metadata": {},
   "source": [
    "7. Write a Python program to find the GCD (Greatest Common Divisor) of two\n",
    "numbers."
   ]
  },
  {
   "cell_type": "code",
   "execution_count": 10,
   "id": "ff831d6b",
   "metadata": {},
   "outputs": [
    {
     "name": "stdout",
     "output_type": "stream",
     "text": [
      "Enter the first number: 52\n",
      "Enter the second number: 56\n",
      "GCD: 4\n"
     ]
    }
   ],
   "source": [
    "def gcd(a, b):\n",
    "    while b != 0:\n",
    "        a, b = b, a % b\n",
    "    return a\n",
    "\n",
    "# Example usage\n",
    "num1 = int(input(\"Enter the first number: \"))\n",
    "num2 = int(input(\"Enter the second number: \"))\n",
    "\n",
    "result = gcd(num1, num2)\n",
    "print(\"GCD:\", result)\n"
   ]
  },
  {
   "cell_type": "markdown",
   "id": "ab0082d8",
   "metadata": {},
   "source": [
    "8. Write a Python program to find the second-largest element in a list.\n"
   ]
  },
  {
   "cell_type": "code",
   "execution_count": 11,
   "id": "226237bc",
   "metadata": {},
   "outputs": [
    {
     "name": "stdout",
     "output_type": "stream",
     "text": [
      "Second largest element: 10\n"
     ]
    }
   ],
   "source": [
    "def find_second_largest(lst):\n",
    "    if len(lst) < 2:\n",
    "        print(\"The list should have at least two elements.\")\n",
    "        return None\n",
    "\n",
    "    largest = float('-inf')\n",
    "    second_largest = float('-inf')\n",
    "\n",
    "    for num in lst:\n",
    "        if num > largest:\n",
    "            second_largest = largest\n",
    "            largest = num\n",
    "        elif num > second_largest and num != largest:\n",
    "            second_largest = num\n",
    "\n",
    "    if second_largest == float('-inf'):\n",
    "        print(\"There is no second-largest element in the list.\")\n",
    "        return None\n",
    "\n",
    "    return second_largest\n",
    "\n",
    "# Example usage\n",
    "my_list = [5, 10, 3, 8, 15, 7]\n",
    "second_largest = find_second_largest(my_list)\n",
    "\n",
    "if second_largest is not None:\n",
    "    print(\"Second largest element:\", second_largest)\n"
   ]
  },
  {
   "cell_type": "markdown",
   "id": "80ff9da9",
   "metadata": {},
   "source": [
    "9. Write a Python program to find the longest common subsequence between two\n",
    "strings using dynamic programming."
   ]
  },
  {
   "cell_type": "code",
   "execution_count": 13,
   "id": "a1b95233",
   "metadata": {},
   "outputs": [
    {
     "name": "stdout",
     "output_type": "stream",
     "text": [
      "Longest Common Subsequence: GTAB\n"
     ]
    }
   ],
   "source": [
    "def longest_common_subsequence(str1, str2):\n",
    "    m = len(str1)\n",
    "    n = len(str2)\n",
    "\n",
    "    # Initialize the matrix\n",
    "    dp = [[0] * (n + 1) for _ in range(m + 1)]\n",
    "\n",
    "    # Fill the matrix\n",
    "    for i in range(1, m + 1):\n",
    "        for j in range(1, n + 1):\n",
    "            if str1[i - 1] == str2[j - 1]:\n",
    "                dp[i][j] = dp[i - 1][j - 1] + 1\n",
    "            else:\n",
    "                dp[i][j] = max(dp[i - 1][j], dp[i][j - 1])\n",
    "\n",
    "    # Construct the LCS string\n",
    "    lcs = \"\"\n",
    "    i, j = m, n\n",
    "    while i > 0 and j > 0:\n",
    "        if str1[i - 1] == str2[j - 1]:\n",
    "            lcs = str1[i - 1] + lcs\n",
    "            i -= 1\n",
    "            j -= 1\n",
    "        elif dp[i - 1][j] > dp[i][j - 1]:\n",
    "            i -= 1\n",
    "        else:\n",
    "            j -= 1\n",
    "\n",
    "    return lcs\n",
    "\n",
    "# Example usage\n",
    "string1 = \"AGGTAB\"\n",
    "string2 = \"GXTXAYB\"\n",
    "\n",
    "lcs = longest_common_subsequence(string1, string2)\n",
    "print(\"Longest Common Subsequence:\", lcs)\n"
   ]
  },
  {
   "cell_type": "code",
   "execution_count": null,
   "id": "38651d51",
   "metadata": {},
   "outputs": [],
   "source": []
  }
 ],
 "metadata": {
  "kernelspec": {
   "display_name": "Python 3 (ipykernel)",
   "language": "python",
   "name": "python3"
  },
  "language_info": {
   "codemirror_mode": {
    "name": "ipython",
    "version": 3
   },
   "file_extension": ".py",
   "mimetype": "text/x-python",
   "name": "python",
   "nbconvert_exporter": "python",
   "pygments_lexer": "ipython3",
   "version": "3.10.7"
  }
 },
 "nbformat": 4,
 "nbformat_minor": 5
}
