{
 "cells": [
  {
   "cell_type": "markdown",
   "id": "e12f3255",
   "metadata": {},
   "source": [
    "DAY-2(SQL)"
   ]
  },
  {
   "cell_type": "markdown",
   "id": "0abf6cfb",
   "metadata": {},
   "source": [
    "1. Write an SQL query to retrieve the names and email addresses of all employees from a table named \"Employees\"."
   ]
  },
  {
   "cell_type": "markdown",
   "id": "d320f6dd",
   "metadata": {},
   "source": [
    "\"select Names, Email address\n",
    "from employees\""
   ]
  },
  {
   "cell_type": "markdown",
   "id": "fff86abb",
   "metadata": {},
   "source": [
    "2. Write an SQL query to filter records from a table named \"Customers\" where the \"City\" column is 'New York'."
   ]
  },
  {
   "cell_type": "markdown",
   "id": "41d32818",
   "metadata": {},
   "source": [
    "select *\n",
    "from Customers\n",
    "where city = 'New York'"
   ]
  },
  {
   "cell_type": "markdown",
   "id": "bda45612",
   "metadata": {},
   "source": [
    "3. Write an SQL query to sort records in descending order based on the \"DateOfBirth\" column in a table named \"Users\"."
   ]
  },
  {
   "cell_type": "code",
   "execution_count": null,
   "id": "848064a2",
   "metadata": {},
   "outputs": [],
   "source": [
    "select *\n",
    "from Users\n",
    "order by DateOfBirth desc"
   ]
  },
  {
   "cell_type": "markdown",
   "id": "2435eb34",
   "metadata": {},
   "source": [
    "4. Write an SQL query to sort records in ascending order based on the \"RegistrationDate\" column in a table named \"Users\"."
   ]
  },
  {
   "cell_type": "markdown",
   "id": "aa1806dd",
   "metadata": {},
   "source": [
    "select *\n",
    "from Users\n",
    "order by RegistrationDate"
   ]
  },
  {
   "cell_type": "markdown",
   "id": "87e8d4b3",
   "metadata": {},
   "source": [
    "5. Write an SQL query to find the employee with the highest salary from a table named \"Employees\" and display their name, position, and salary."
   ]
  },
  {
   "cell_type": "markdown",
   "id": "3a1f68f3",
   "metadata": {},
   "source": [
    "select name, position, salary\n",
    "from employees\n",
    "where salary = max(salary)"
   ]
  },
  {
   "cell_type": "markdown",
   "id": "6a146c34",
   "metadata": {},
   "source": [
    "6. Write an SQL query to retrieve records from a table named \"Customers\" where the \"Phone\" column matches the pattern '+1-XXX-XXX-XXXX'."
   ]
  },
  {
   "cell_type": "markdown",
   "id": "112f37b4",
   "metadata": {},
   "source": [
    "select *\n",
    "from Customers\n",
    "where Phone like '+1-XXX-XXX-XXXX'"
   ]
  },
  {
   "cell_type": "markdown",
   "id": "716b7251",
   "metadata": {},
   "source": [
    "7. Write an SQL query to retrieve the top 5 customers with the highest total purchase amount from a table named \"Orders\" and display their names and total purchase amounts."
   ]
  },
  {
   "cell_type": "markdown",
   "id": "dd086639",
   "metadata": {},
   "source": [
    "select name, sum('total purchase amounts')\n",
    "from Orders\n",
    "group by name\n",
    "order by 'total purchase amounts' desc limit 5;"
   ]
  },
  {
   "cell_type": "markdown",
   "id": "f21ebad8",
   "metadata": {},
   "source": [
    "8. Write an SQL query to calculate the percentage of sales for each product category in a table named \"Sales\" and display the category name, total sales amount, and the percentage of total sales."
   ]
  },
  {
   "cell_type": "markdown",
   "id": "af7ff7a4",
   "metadata": {},
   "source": [
    "select categoryName, sum(totalSalesAmount),\n",
    "        (SUM(SalesAmount) / (SELECT SUM(SalesAmount) FROM Sales)) * 100 AS PercentageOfSales\n",
    "from Sales\n",
    "group by categoryName;\n"
   ]
  },
  {
   "cell_type": "markdown",
   "id": "0228e113",
   "metadata": {},
   "source": [
    "9. Write an SQL query to find the customers who have made the highest total purchases across all years from a table named \"Orders\" and display their names, email addresses, and the total purchase amount.\n"
   ]
  },
  {
   "cell_type": "markdown",
   "id": "2fcf7189",
   "metadata": {},
   "source": [
    "SELECT CustomerName, Email, SUM(OrderAmount) AS TotalPurchaseAmount\n",
    "FROM Orders\n",
    "GROUP BY CustomerName, Email\n",
    "HAVING SUM(OrderAmount) = (SELECT MAX(TotalAmount) FROM\n",
    "                           (SELECT SUM(OrderAmount) AS TotalAmount\n",
    "                            FROM Orders\n",
    "                            GROUP BY CustomerName) AS SubQuery);\n"
   ]
  }
 ],
 "metadata": {
  "kernelspec": {
   "display_name": "Python 3 (ipykernel)",
   "language": "python",
   "name": "python3"
  },
  "language_info": {
   "codemirror_mode": {
    "name": "ipython",
    "version": 3
   },
   "file_extension": ".py",
   "mimetype": "text/x-python",
   "name": "python",
   "nbconvert_exporter": "python",
   "pygments_lexer": "ipython3",
   "version": "3.10.4"
  }
 },
 "nbformat": 4,
 "nbformat_minor": 5
}
